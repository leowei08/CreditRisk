{
 "cells": [
  {
   "cell_type": "code",
   "execution_count": 83,
   "id": "75aea66f",
   "metadata": {},
   "outputs": [],
   "source": [
    "# Import libraries\n",
    "import pandas as pd\n",
    "import numpy as np\n",
    "from imblearn.over_sampling import RandomOverSampler\n",
    "from sklearn.model_selection import train_test_split\n",
    "from sklearn.linear_model import LogisticRegression\n",
    "from sklearn.ensemble import RandomForestClassifier\n",
    "from sklearn.metrics import roc_curve, auc\n",
    "import statsmodels.api as sm\n",
    "import matplotlib.pyplot as plt"
   ]
  },
  {
   "cell_type": "code",
   "execution_count": 62,
   "id": "bdfbee4a",
   "metadata": {},
   "outputs": [
    {
     "name": "stderr",
     "output_type": "stream",
     "text": [
      "C:\\Users\\leowe\\anaconda3\\lib\\site-packages\\IPython\\core\\interactiveshell.py:3166: DtypeWarning: Columns (0,19,49,59,118,129,130,131,134,135,136,139,145,146,147) have mixed types.Specify dtype option on import or set low_memory=False.\n",
      "  interactivity=interactivity, compiler=compiler, result=result)\n"
     ]
    }
   ],
   "source": [
    "data = pd.read_csv('lendingclub/accepted_2007_to_2018Q4.csv')"
   ]
  },
  {
   "cell_type": "code",
   "execution_count": 3,
   "id": "40fa3729",
   "metadata": {},
   "outputs": [
    {
     "data": {
      "text/plain": [
       "id                             0\n",
       "member_id                2260701\n",
       "loan_amnt                     33\n",
       "funded_amnt                   33\n",
       "funded_amnt_inv               33\n",
       "                          ...   \n",
       "settlement_status        2226455\n",
       "settlement_date          2226455\n",
       "settlement_amount        2226455\n",
       "settlement_percentage    2226455\n",
       "settlement_term          2226455\n",
       "Length: 151, dtype: int64"
      ]
     },
     "execution_count": 3,
     "metadata": {},
     "output_type": "execute_result"
    }
   ],
   "source": [
    "# Observe the missing values of each column\n",
    "data.isna().sum()"
   ]
  },
  {
   "cell_type": "code",
   "execution_count": 4,
   "id": "9c9717b6",
   "metadata": {},
   "outputs": [],
   "source": [
    "# columns to remove\n",
    "remove_col = [\"id\", \"member_id\", \"funded_amnt\", \"funded_amnt_inv\", \"installment\", \"url\", \"desc\", \"emp_title\", \"pymnt_plan\", \"title\", \n",
    "              \"zip_code\", \"initial_list_status\", \"out_prncp\", \"out_prncp_inv\", \"total_pymnt\", \"total_pymnt_inv\", \"total_rec_prncp\", \"total_rec_int\",\n",
    "              \"total_rec_late_fee\", \"recoveries\", \"collection_recovery_fee\", \"last_pymnt_d\", \"last_pymnt_amnt\", \"next_pymnt_d\", \"last_credit_pull_d\", \n",
    "              \"last_fico_range_high\", \"last_fico_range_low\", \"mths_since_last_major_derog\", \"policy_code\", \"num_tl_120dpd_2m\", \"num_tl_30dpd\", \"hardship_flag\", \n",
    "              \"hardship_type\", \"hardship_reason\", \"hardship_status\", \"deferral_term\", \"hardship_amount\", \"hardship_start_date\", \"hardship_end_date\", \n",
    "              \"payment_plan_start_date\", \"hardship_length\", \"hardship_dpd\", \"hardship_loan_status\", \"orig_projected_additional_accrued_interest\", \n",
    "              \"hardship_payoff_balance_amount\", \"hardship_last_payment_amount\", \"disbursement_method\", \"debt_settlement_flag\", \"debt_settlement_flag_date\",\n",
    "              \"settlement_status\", \"settlement_date\", \"settlement_amount\", \"settlement_percentage\", \"settlement_term\", \"sub_grade\", \"grade\"]"
   ]
  },
  {
   "cell_type": "code",
   "execution_count": 63,
   "id": "ded25675",
   "metadata": {},
   "outputs": [],
   "source": [
    "# Remove them\n",
    "data = data.drop(remove_col,axis=1)"
   ]
  },
  {
   "cell_type": "code",
   "execution_count": 64,
   "id": "5b5c9155",
   "metadata": {},
   "outputs": [],
   "source": [
    "# Filter for only fully paid and charged off loans\n",
    "data = data[data['loan_status'].isin(['Fully Paid','Charged Off'])]"
   ]
  },
  {
   "cell_type": "code",
   "execution_count": 65,
   "id": "f688007e",
   "metadata": {},
   "outputs": [],
   "source": [
    "# Calculate missing value percentage for each column\n",
    "missperc = (data.isna().sum() / data.shape[0]).reset_index()"
   ]
  },
  {
   "cell_type": "code",
   "execution_count": 66,
   "id": "562d1f2f",
   "metadata": {},
   "outputs": [],
   "source": [
    "# Filter for columns with less than 50% missing values\n",
    "cols = missperc[missperc[0] < 0.5]['index']"
   ]
  },
  {
   "cell_type": "code",
   "execution_count": 67,
   "id": "0db01955",
   "metadata": {},
   "outputs": [],
   "source": [
    "# Filter the dataframe based on those columns\n",
    "data = data[cols]"
   ]
  },
  {
   "cell_type": "code",
   "execution_count": 68,
   "id": "6ffc8c7f",
   "metadata": {},
   "outputs": [],
   "source": [
    "# Convert loan status to a dummy variable\n",
    "data[\"loan_status\"] = data[\"loan_status\"].map({\"Fully Paid\": 1., \"Charged Off\": 0.})"
   ]
  },
  {
   "cell_type": "code",
   "execution_count": 69,
   "id": "8e4bbf50",
   "metadata": {},
   "outputs": [
    {
     "name": "stderr",
     "output_type": "stream",
     "text": [
      "C:\\Users\\leowe\\anaconda3\\lib\\site-packages\\ipykernel_launcher.py:1: FutureWarning: The default value of regex will change from True to False in a future version.\n",
      "  \"\"\"Entry point for launching an IPython kernel.\n"
     ]
    }
   ],
   "source": [
    "data['emp_length'] = data['emp_length'].str.replace(r'\\D', '').astype(float)"
   ]
  },
  {
   "cell_type": "code",
   "execution_count": 70,
   "id": "bba5761e",
   "metadata": {},
   "outputs": [],
   "source": [
    "# fill the NA values\n",
    "data = data.fillna(data.median())"
   ]
  },
  {
   "cell_type": "code",
   "execution_count": 71,
   "id": "5759b234",
   "metadata": {},
   "outputs": [
    {
     "data": {
      "text/plain": [
       "0"
      ]
     },
     "execution_count": 71,
     "metadata": {},
     "output_type": "execute_result"
    }
   ],
   "source": [
    "# Total missing values\n",
    "data.isna().sum().sum()"
   ]
  },
  {
   "cell_type": "code",
   "execution_count": 72,
   "id": "c0d61042",
   "metadata": {},
   "outputs": [
    {
     "name": "stdout",
     "output_type": "stream",
     "text": [
      "['fico_range_high', 'total_rev_hi_lim', 'avg_cur_bal', 'bc_util', 'num_actv_rev_tl', 'num_bc_sats', 'num_op_rev_tl', 'num_rev_accts', 'num_rev_tl_bal_gt_0', 'num_sats', 'percent_bc_gt_75', 'tot_hi_cred_lim', 'total_bc_limit', 'total_il_high_credit_limit']\n"
     ]
    }
   ],
   "source": [
    "# Create correlation matrix\n",
    "corr_matrix = data.corr().abs()\n",
    "\n",
    "# Select upper triangle of correlation matrix\n",
    "upper = corr_matrix.where(np.triu(np.ones(corr_matrix.shape), k=1).astype(np.bool))\n",
    "\n",
    "# Find features with correlation greater than 0.8\n",
    "to_drop = [column for column in upper.columns if any(upper[column] >= 0.8)]\n",
    "print(to_drop)\n",
    "\n",
    "# Drop them\n",
    "data = data.drop(to_drop, axis=1)"
   ]
  },
  {
   "cell_type": "code",
   "execution_count": 73,
   "id": "bcca8fd2",
   "metadata": {},
   "outputs": [
    {
     "data": {
      "text/plain": [
       "Index(['loan_amnt', 'term', 'int_rate', 'emp_length', 'home_ownership',\n",
       "       'annual_inc', 'verification_status', 'issue_d', 'loan_status',\n",
       "       'purpose', 'addr_state', 'dti', 'delinq_2yrs', 'earliest_cr_line',\n",
       "       'fico_range_low', 'inq_last_6mths', 'open_acc', 'pub_rec', 'revol_bal',\n",
       "       'revol_util', 'total_acc', 'collections_12_mths_ex_med',\n",
       "       'application_type', 'acc_now_delinq', 'tot_coll_amt', 'tot_cur_bal',\n",
       "       'acc_open_past_24mths', 'bc_open_to_buy', 'chargeoff_within_12_mths',\n",
       "       'delinq_amnt', 'mo_sin_old_il_acct', 'mo_sin_old_rev_tl_op',\n",
       "       'mo_sin_rcnt_rev_tl_op', 'mo_sin_rcnt_tl', 'mort_acc',\n",
       "       'mths_since_recent_bc', 'mths_since_recent_inq',\n",
       "       'num_accts_ever_120_pd', 'num_actv_bc_tl', 'num_bc_tl', 'num_il_tl',\n",
       "       'num_tl_90g_dpd_24m', 'num_tl_op_past_12m', 'pct_tl_nvr_dlq',\n",
       "       'pub_rec_bankruptcies', 'tax_liens', 'total_bal_ex_mort'],\n",
       "      dtype='object')"
      ]
     },
     "execution_count": 73,
     "metadata": {},
     "output_type": "execute_result"
    }
   ],
   "source": [
    "data.columns"
   ]
  },
  {
   "cell_type": "code",
   "execution_count": 74,
   "id": "f94dc467",
   "metadata": {},
   "outputs": [],
   "source": [
    "# convert terms from months to years\n",
    "data[\"term\"] = (data[\"term\"].str.extract('(\\d+)').astype(float))/12\n",
    "\n",
    "# transform earliest_cr_line to the number of days before the loan is issued\n",
    "data[\"earliest_cr_line\"] = data[\"issue_d\"].str.extract('(\\d+)').astype(float) - data[\"earliest_cr_line\"].str.extract('(\\d+)').astype(float)\n",
    "data = data.drop([\"issue_d\",'addr_state'], axis=1)\n",
    "\n",
    "# create dummy variables\n",
    "data[\"application_type\"] = data[\"application_type\"].map({\"Individual\": 1., \"Joint App\": 0.})\n",
    "data = data[data[\"home_ownership\"].isin([\"MORTGAGE\", \"RENT\", \"OWN\"])]\n",
    "data = pd.get_dummies(data, columns=[\"home_ownership\", \"verification_status\",'purpose'])\n"
   ]
  },
  {
   "cell_type": "code",
   "execution_count": 76,
   "id": "ae28ed6e",
   "metadata": {},
   "outputs": [],
   "source": [
    "# Oversample to balance it\n",
    "ros = RandomOverSampler(random_state=42)\n",
    "X_res, y_res = ros.fit_resample(data.drop(columns=['loan_status']), data['loan_status'])"
   ]
  },
  {
   "cell_type": "code",
   "execution_count": 93,
   "id": "800e8d26",
   "metadata": {},
   "outputs": [],
   "source": [
    "# Split the data into the test and train dataset\n",
    "xtrain, xtest, ytrain, ytest = train_test_split(X_res, y_res, test_size=0.2, random_state=42)"
   ]
  },
  {
   "cell_type": "code",
   "execution_count": 18,
   "id": "946fd7a3",
   "metadata": {},
   "outputs": [
    {
     "name": "stdout",
     "output_type": "stream",
     "text": [
      "Optimization terminated successfully.\n",
      "         Current function value: 0.677904\n",
      "         Iterations 5\n"
     ]
    },
    {
     "data": {
      "text/html": [
       "<table class=\"simpletable\">\n",
       "<caption>Logit Regression Results</caption>\n",
       "<tr>\n",
       "  <th>Dep. Variable:</th>      <td>loan_status</td>   <th>  No. Observations:  </th>   <td>1722801</td>  \n",
       "</tr>\n",
       "<tr>\n",
       "  <th>Model:</th>                 <td>Logit</td>      <th>  Df Residuals:      </th>   <td>1722799</td>  \n",
       "</tr>\n",
       "<tr>\n",
       "  <th>Method:</th>                 <td>MLE</td>       <th>  Df Model:          </th>   <td>     1</td>   \n",
       "</tr>\n",
       "<tr>\n",
       "  <th>Date:</th>            <td>Tue, 05 Oct 2021</td> <th>  Pseudo R-squ.:     </th>   <td>0.02199</td>  \n",
       "</tr>\n",
       "<tr>\n",
       "  <th>Time:</th>                <td>16:01:18</td>     <th>  Log-Likelihood:    </th> <td>-1.1679e+06</td>\n",
       "</tr>\n",
       "<tr>\n",
       "  <th>converged:</th>             <td>True</td>       <th>  LL-Null:           </th> <td>-1.1942e+06</td>\n",
       "</tr>\n",
       "<tr>\n",
       "  <th>Covariance Type:</th>     <td>nonrobust</td>    <th>  LLR p-value:       </th>   <td> 0.000</td>   \n",
       "</tr>\n",
       "</table>\n",
       "<table class=\"simpletable\">\n",
       "<tr>\n",
       "         <td></td>           <th>coef</th>     <th>std err</th>      <th>z</th>      <th>P>|z|</th>  <th>[0.025</th>    <th>0.975]</th>  \n",
       "</tr>\n",
       "<tr>\n",
       "  <th>const</th>          <td>   -8.3654</td> <td>    0.038</td> <td> -221.007</td> <td> 0.000</td> <td>   -8.440</td> <td>   -8.291</td>\n",
       "</tr>\n",
       "<tr>\n",
       "  <th>fico_range_low</th> <td>    0.0121</td> <td> 5.47e-05</td> <td>  220.931</td> <td> 0.000</td> <td>    0.012</td> <td>    0.012</td>\n",
       "</tr>\n",
       "</table>"
      ],
      "text/plain": [
       "<class 'statsmodels.iolib.summary.Summary'>\n",
       "\"\"\"\n",
       "                           Logit Regression Results                           \n",
       "==============================================================================\n",
       "Dep. Variable:            loan_status   No. Observations:              1722801\n",
       "Model:                          Logit   Df Residuals:                  1722799\n",
       "Method:                           MLE   Df Model:                            1\n",
       "Date:                Tue, 05 Oct 2021   Pseudo R-squ.:                 0.02199\n",
       "Time:                        16:01:18   Log-Likelihood:            -1.1679e+06\n",
       "converged:                       True   LL-Null:                   -1.1942e+06\n",
       "Covariance Type:            nonrobust   LLR p-value:                     0.000\n",
       "==================================================================================\n",
       "                     coef    std err          z      P>|z|      [0.025      0.975]\n",
       "----------------------------------------------------------------------------------\n",
       "const             -8.3654      0.038   -221.007      0.000      -8.440      -8.291\n",
       "fico_range_low     0.0121   5.47e-05    220.931      0.000       0.012       0.012\n",
       "==================================================================================\n",
       "\"\"\""
      ]
     },
     "execution_count": 18,
     "metadata": {},
     "output_type": "execute_result"
    }
   ],
   "source": [
    "# Logistic regression\n",
    "logit = sm.Logit(ytrain, sm.add_constant(xtrain['fico_range_low'])).fit(maxiter=1000)\n",
    "logit.summary()"
   ]
  },
  {
   "cell_type": "code",
   "execution_count": 23,
   "id": "683ba45e",
   "metadata": {},
   "outputs": [],
   "source": [
    "# Logistic Regression from sklearn\n",
    "LR_base = LogisticRegression().fit(xtrain['fico_range_low'].values.reshape(-1, 1), ytrain)"
   ]
  },
  {
   "cell_type": "code",
   "execution_count": 38,
   "id": "de7925b6",
   "metadata": {},
   "outputs": [],
   "source": [
    "# Make predictions on testing data\n",
    "ypred_base = LR_base.predict_proba(xtest['fico_range_low'].values.reshape(-1,1))"
   ]
  },
  {
   "cell_type": "code",
   "execution_count": 36,
   "id": "dfb2a2ff",
   "metadata": {},
   "outputs": [],
   "source": [
    "# Plots the ROC curve and computes AUC\n",
    "def plot_AUC(y_pred, y_test, model_name):\n",
    "    plt.rcParams[\"figure.figsize\"] = (8,6)\n",
    "    fpr, tpr, thresholds = roc_curve(y_test, y_pred)\n",
    "    roc_auc = auc(fpr, tpr)\n",
    "    label = 'AUC:' + ' {0:.2f}'.format(roc_auc)\n",
    "    plt.plot(fpr, tpr, c = 'g', label = label, linewidth = 2);\n",
    "    plt.xlabel('False Positive Rate', fontsize = 10);\n",
    "    plt.ylabel('True Positive Rate', fontsize = 10);\n",
    "    plt.title('ROC Curve: '+ model_name, fontsize = 12);\n",
    "    plt.legend(loc = 'lower right', fontsize = 10);\n",
    "    plt.grid(linewidth=0.3)"
   ]
  },
  {
   "cell_type": "code",
   "execution_count": 40,
   "id": "cd31b7d4",
   "metadata": {},
   "outputs": [
    {
     "data": {
      "image/png": "[encoded data removed]",
      "text/plain": [
       "<Figure size 576x432 with 1 Axes>"
      ]
     },
     "metadata": {
      "needs_background": "light"
     },
     "output_type": "display_data"
    }
   ],
   "source": [
    "plot_AUC(ypred_base[:,1], ytest, \"LR baseline model\")"
   ]
  },
  {
   "cell_type": "code",
   "execution_count": 54,
   "id": "f00f88e1",
   "metadata": {},
   "outputs": [],
   "source": [
    "# Function that plots and computes the Cumulative Accuracy Profile\n",
    "def plot_CAP(y_pred, model_name, N=10):\n",
    "    \n",
    "    # our model\n",
    "    idx = np.argsort(-y_pred)\n",
    "    y_pred = -np.sort(-y_pred)\n",
    "    deciles = np.array_split(y_pred, N)\n",
    "    deciles_idx = np.array_split(idx, N)\n",
    "    \n",
    "    # number of borrowers (observations) in each decile\n",
    "    nB = len(deciles[0])\n",
    "    \n",
    "    # number of default loans in each decile\n",
    "    y = np.array(ytest)\n",
    "    nD = np.array([sum(y[id] == 0) for id in deciles_idx])\n",
    "    \n",
    "    # total number of default loans\n",
    "    totD = np.sum(nD)\n",
    "    \n",
    "    # cumulative Number of default loans in each decile\n",
    "    cumD = np.cumsum(nD)\n",
    "    \n",
    "    # percentage of default loans in each decile\n",
    "    pD = (nD/totD) * 100\n",
    "    \n",
    "    # cumulative percentage of default loans in each decile\n",
    "    cumP = np.insert(np.cumsum(pD), 0, 0)\n",
    "\n",
    "    # The perfect model\n",
    "    \n",
    "    # number of default loans\n",
    "    perf_nD = np.zeros(N)\n",
    "    ids = round(totD/nB)\n",
    "    \n",
    "    # Number of default loans in each decile\n",
    "    perf_nD[:int(ids)] = np.repeat(nB, ids)\n",
    "    \n",
    "    # cumulative Number of default loans in each decile\n",
    "    perf_cumD = np.cumsum(perf_nD)\n",
    "    \n",
    "    # cumulative percentage of default loans in each decile\n",
    "    perf_cumP = np.insert(np.cumsum((perf_nD/totD) * 100), 0, 0)\n",
    "\n",
    "    # A random model\n",
    "    rand_cumP = np.insert(np.array(range(10,110,N)), 0, 0)\n",
    "\n",
    "    # Compute Accuracy Ratio\n",
    "    \n",
    "    # Area under Random Model\n",
    "    a = auc(rand_cumP, rand_cumP)\n",
    "    \n",
    "    # Area between Perfect and Random Model\n",
    "    aP = auc(rand_cumP, perf_cumP) - a\n",
    "    \n",
    "    # Area between our and Random Model\n",
    "    aR = auc(rand_cumP, cumP) - a\n",
    "    AR = aR / aP\n",
    "\n",
    "    plt.plot(rand_cumP, cumP, c = 'b', linewidth = 1, label=model_name)\n",
    "    plt.plot(rand_cumP, perf_cumP, c = 'grey', linewidth = 1, label=\"Perfect model\")\n",
    "    plt.plot(rand_cumP, rand_cumP, c = 'r', linestyle = '--', label=\"Random model\")\n",
    "    plt.plot([], [], ' ', label=\"Accuracy Ratio = \"+ str(round(AR, 3)))\n",
    "    plt.ylabel(\"% of default loans\")\n",
    "    plt.xlabel(\"% of loans\")\n",
    "    plt.title(\"Cumulative Accuracy Profile\")\n",
    "    plt.legend(loc=\"lower right\")\n",
    "    plt.grid(linewidth=0.5)\n",
    "    plt.show()"
   ]
  },
  {
   "cell_type": "code",
   "execution_count": 56,
   "id": "43852a9e",
   "metadata": {},
   "outputs": [
    {
     "data": {
      "image/png": "[encoded data removed]",
      "text/plain": [
       "<Figure size 576x432 with 1 Axes>"
      ]
     },
     "metadata": {
      "needs_background": "light"
     },
     "output_type": "display_data"
    }
   ],
   "source": [
    "# Plot the CAP and compute AR\n",
    "plot_CAP(ypred_base[:,0], \"LR baseline model\")"
   ]
  },
  {
   "cell_type": "code",
   "execution_count": 79,
   "id": "03d1319a",
   "metadata": {},
   "outputs": [
    {
     "name": "stderr",
     "output_type": "stream",
     "text": [
      "C:\\Users\\leowe\\anaconda3\\lib\\site-packages\\sklearn\\linear_model\\_logistic.py:765: ConvergenceWarning: lbfgs failed to converge (status=1):\n",
      "STOP: TOTAL NO. of ITERATIONS REACHED LIMIT.\n",
      "\n",
      "Increase the number of iterations (max_iter) or scale the data as shown in:\n",
      "    https://scikit-learn.org/stable/modules/preprocessing.html\n",
      "Please also refer to the documentation for alternative solver options:\n",
      "    https://scikit-learn.org/stable/modules/linear_model.html#logistic-regression\n",
      "  extra_warning_msg=_LOGISTIC_SOLVER_CONVERGENCE_MSG)\n"
     ]
    }
   ],
   "source": [
    "# Use all features to compare to the baseline model\n",
    "LR_all = LogisticRegression().fit(xtrain, ytrain)"
   ]
  },
  {
   "cell_type": "code",
   "execution_count": 80,
   "id": "f082edf1",
   "metadata": {},
   "outputs": [],
   "source": [
    "# Make predictions on testing data\n",
    "ypred_all = LR_all.predict_proba(xtest)"
   ]
  },
  {
   "cell_type": "code",
   "execution_count": 81,
   "id": "2d584870",
   "metadata": {},
   "outputs": [
    {
     "data": {
      "image/png": "[encoded data removed]",
      "text/plain": [
       "<Figure size 576x432 with 1 Axes>"
      ]
     },
     "metadata": {
      "needs_background": "light"
     },
     "output_type": "display_data"
    }
   ],
   "source": [
    "plot_AUC(ypred_all[:,1], ytest, \"LR All model\")"
   ]
  },
  {
   "cell_type": "code",
   "execution_count": 82,
   "id": "acf5b513",
   "metadata": {},
   "outputs": [
    {
     "data": {
      "image/png": "[encoded data removed]",
      "text/plain": [
       "<Figure size 576x432 with 1 Axes>"
      ]
     },
     "metadata": {
      "needs_background": "light"
     },
     "output_type": "display_data"
    }
   ],
   "source": [
    "# Plot the CAP and compute AR\n",
    "plot_CAP(ypred_all[:,0], \"LR All model\")"
   ]
  },
  {
   "cell_type": "code",
   "execution_count": 84,
   "id": "557a46b9",
   "metadata": {},
   "outputs": [],
   "source": [
    "# Random Forest Classifier\n",
    "rf = RandomForestClassifier(max_depth=15, random_state = 42)\n",
    "rf.fit(xtrain, ytrain)\n",
    "ypred_rf = rf.predict_proba(xtest)"
   ]
  },
  {
   "cell_type": "code",
   "execution_count": 85,
   "id": "69c72841",
   "metadata": {},
   "outputs": [
    {
     "data": {
      "image/png": "[encoded data removed]",
      "text/plain": [
       "<Figure size 576x432 with 1 Axes>"
      ]
     },
     "metadata": {
      "needs_background": "light"
     },
     "output_type": "display_data"
    }
   ],
   "source": [
    "# AUC for RF\n",
    "plot_AUC(ypred_rf[:,1], ytest, \"RF All model\")"
   ]
  },
  {
   "cell_type": "code",
   "execution_count": 86,
   "id": "79fed67e",
   "metadata": {},
   "outputs": [
    {
     "data": {
      "image/png": "[encoded data removed]",
      "text/plain": [
       "<Figure size 576x432 with 1 Axes>"
      ]
     },
     "metadata": {
      "needs_background": "light"
     },
     "output_type": "display_data"
    }
   ],
   "source": [
    "# Plot the CAP and compute AR for RF\n",
    "plot_CAP(ypred_rf[:,0], \"RF All model\")"
   ]
  },
  {
   "cell_type": "markdown",
   "id": "fe34e31b",
   "metadata": {},
   "source": [
    "# Analyze subgroup performance"
   ]
  },
  {
   "cell_type": "code",
   "execution_count": 94,
   "id": "52f152a7",
   "metadata": {},
   "outputs": [
    {
     "name": "stderr",
     "output_type": "stream",
     "text": [
      "C:\\Users\\leowe\\anaconda3\\lib\\site-packages\\ipykernel_launcher.py:4: SettingWithCopyWarning: \n",
      "A value is trying to be set on a copy of a slice from a DataFrame.\n",
      "Try using .loc[row_indexer,col_indexer] = value instead\n",
      "\n",
      "See the caveats in the documentation: https://pandas.pydata.org/pandas-docs/stable/user_guide/indexing.html#returning-a-view-versus-a-copy\n",
      "  after removing the cwd from sys.path.\n",
      "C:\\Users\\leowe\\anaconda3\\lib\\site-packages\\ipykernel_launcher.py:5: SettingWithCopyWarning: \n",
      "A value is trying to be set on a copy of a slice from a DataFrame.\n",
      "Try using .loc[row_indexer,col_indexer] = value instead\n",
      "\n",
      "See the caveats in the documentation: https://pandas.pydata.org/pandas-docs/stable/user_guide/indexing.html#returning-a-view-versus-a-copy\n",
      "  \"\"\"\n",
      "C:\\Users\\leowe\\anaconda3\\lib\\site-packages\\ipykernel_launcher.py:6: SettingWithCopyWarning: \n",
      "A value is trying to be set on a copy of a slice from a DataFrame.\n",
      "Try using .loc[row_indexer,col_indexer] = value instead\n",
      "\n",
      "See the caveats in the documentation: https://pandas.pydata.org/pandas-docs/stable/user_guide/indexing.html#returning-a-view-versus-a-copy\n",
      "  \n",
      "C:\\Users\\leowe\\anaconda3\\lib\\site-packages\\ipykernel_launcher.py:7: SettingWithCopyWarning: \n",
      "A value is trying to be set on a copy of a slice from a DataFrame.\n",
      "Try using .loc[row_indexer,col_indexer] = value instead\n",
      "\n",
      "See the caveats in the documentation: https://pandas.pydata.org/pandas-docs/stable/user_guide/indexing.html#returning-a-view-versus-a-copy\n",
      "  import sys\n",
      "C:\\Users\\leowe\\anaconda3\\lib\\site-packages\\ipykernel_launcher.py:8: SettingWithCopyWarning: \n",
      "A value is trying to be set on a copy of a slice from a DataFrame.\n",
      "Try using .loc[row_indexer,col_indexer] = value instead\n",
      "\n",
      "See the caveats in the documentation: https://pandas.pydata.org/pandas-docs/stable/user_guide/indexing.html#returning-a-view-versus-a-copy\n",
      "  \n"
     ]
    }
   ],
   "source": [
    "# Combine data and the predictions into one dataframe\n",
    "rfpred= rf.predict(xtest)\n",
    "lrpred= LR_all.predict(xtest)\n",
    "xtest['rfpredict'] = rfpred\n",
    "xtest['lrpredict'] = lrpred\n",
    "xtest['y'] = ytest\n",
    "xtest['rfcorrect'] = (xtest['rfpredict'] == xtest['y']).astype(int)\n",
    "xtest['lrcorrect'] = (xtest['lrpredict'] == xtest['y']).astype(int)"
   ]
  },
  {
   "cell_type": "code",
   "execution_count": 97,
   "id": "492242fb",
   "metadata": {},
   "outputs": [
    {
     "name": "stdout",
     "output_type": "stream",
     "text": [
      "Accuracy of the random forest in the lower 25th percentile of the average FICO Score is 0.708604517047795\n",
      "Accuracy of the logistic regression in the lower 25th percentile of the average FICO Score is 0.5892876057763602\n",
      "Accuracy of the random forest in the upper 90th percentile of the average FICO Score is 0.8126487859069988\n",
      "Accuracy of the logistic regression in the upper 90th percentile of the average FICO Score is 0.6712426598952547\n"
     ]
    }
   ],
   "source": [
    "# By the lower 25th percentile of the average FICO Score\n",
    "fico1q = xtest['fico_range_low'].quantile(0.25)\n",
    "df_lowfico = xtest[xtest['fico_range_low'] < fico1q]\n",
    "print(\"Accuracy of the random forest in the lower 25th percentile of the average FICO Score is\", df_lowfico['rfcorrect'].sum()/df_lowfico.shape[0])\n",
    "print(\"Accuracy of the logistic regression in the lower 25th percentile of the average FICO Score is\", df_lowfico['lrcorrect'].sum()/df_lowfico.shape[0])\n",
    "\n",
    "# By the upper 10th percentile of average FICO Score\n",
    "fico90 = xtest['fico_range_low'].quantile(0.9)\n",
    "df_highfico = xtest[xtest['fico_range_low'] > fico90]\n",
    "print(\"Accuracy of the random forest in the upper 90th percentile of the average FICO Score is\", df_highfico['rfcorrect'].sum()/df_highfico.shape[0])\n",
    "print(\"Accuracy of the logistic regression in the upper 90th percentile of the average FICO Score is\", df_highfico['lrcorrect'].sum()/df_highfico.shape[0])"
   ]
  },
  {
   "cell_type": "code",
   "execution_count": 98,
   "id": "2ba1427a",
   "metadata": {},
   "outputs": [
    {
     "name": "stdout",
     "output_type": "stream",
     "text": [
      "Accuracy of the random forest for those who own their house is 0.7196969696969697\n",
      "Accuracy of the logistic regression for those who own their house is 0.5728927934810287\n",
      "Accuracy of the random forest for those paying rent for their house is 0.7136937016477028\n",
      "Accuracy of the logistic regression for those paying rent for their house is 0.583405988235424\n",
      "Accuracy of the random forest for those getting loans for a car is 0.7405002405002405\n",
      "Accuracy of the logistic regression for those getting loans for a car is 0.645983645983646\n"
     ]
    }
   ],
   "source": [
    "# By homeownership\n",
    "ownhome = xtest[xtest['home_ownership_OWN'] == 1]\n",
    "print(\"Accuracy of the random forest for those who own their house is\", ownhome['rfcorrect'].sum()/ownhome.shape[0])\n",
    "print(\"Accuracy of the logistic regression for those who own their house is\", ownhome['lrcorrect'].sum()/ownhome.shape[0])\n",
    "\n",
    "# By currently their house or not\n",
    "renthome = xtest[xtest['home_ownership_RENT'] == 1]\n",
    "print(\"Accuracy of the random forest for those paying rent for their house is\", renthome['rfcorrect'].sum()/renthome.shape[0])\n",
    "print(\"Accuracy of the logistic regression for those paying rent for their house is\", renthome['lrcorrect'].sum()/renthome.shape[0])\n",
    "\n",
    "# By the purpose of car loans\n",
    "car = xtest[xtest['purpose_car'] == 1]\n",
    "print(\"Accuracy of the random forest for those getting loans for a car is\", car['rfcorrect'].sum()/car.shape[0])\n",
    "print(\"Accuracy of the logistic regression for those getting loans for a car is\", car['lrcorrect'].sum()/car.shape[0])"
   ]
  },
  {
   "cell_type": "markdown",
   "id": "2b5e0657",
   "metadata": {},
   "source": [
    "On average the random forest classifier does 10% better than the logistic regressor."
   ]
  },
  {
   "cell_type": "markdown",
   "id": "e75c4bdf",
   "metadata": {},
   "source": [
    "# Economic insight by feature importance"
   ]
  },
  {
   "cell_type": "code",
   "execution_count": 99,
   "id": "f68df26b",
   "metadata": {},
   "outputs": [],
   "source": [
    "# Standardize the data\n",
    "xtrainnorm = (xtrain - np.mean(xtrain)) / np.std(xtrain)"
   ]
  },
  {
   "cell_type": "code",
   "execution_count": 103,
   "id": "b95335f1",
   "metadata": {},
   "outputs": [],
   "source": [
    "# Logistic regression on the standardized data\n",
    "lr = LogisticRegression().fit(xtrainnorm,ytrain)"
   ]
  },
  {
   "cell_type": "code",
   "execution_count": 106,
   "id": "1d397684",
   "metadata": {},
   "outputs": [],
   "source": [
    "# Collect the standardized coefficients\n",
    "coefs_lr = pd.DataFrame([xtrain.columns,lr.coef_[0]]).T\n",
    "coefs_lr['abs_coef'] = abs(coefs_lr[1])"
   ]
  },
  {
   "cell_type": "code",
   "execution_count": 108,
   "id": "6ea88126",
   "metadata": {},
   "outputs": [
    {
     "data": {
      "text/html": [
       "<div>\n",
       "<style scoped>\n",
       "    .dataframe tbody tr th:only-of-type {\n",
       "        vertical-align: middle;\n",
       "    }\n",
       "\n",
       "    .dataframe tbody tr th {\n",
       "        vertical-align: top;\n",
       "    }\n",
       "\n",
       "    .dataframe thead th {\n",
       "        text-align: right;\n",
       "    }\n",
       "</style>\n",
       "<table border=\"1\" class=\"dataframe\">\n",
       "  <thead>\n",
       "    <tr style=\"text-align: right;\">\n",
       "      <th></th>\n",
       "      <th>Variable</th>\n",
       "      <th>Standardized Coefficient</th>\n",
       "    </tr>\n",
       "  </thead>\n",
       "  <tbody>\n",
       "    <tr>\n",
       "      <th>0</th>\n",
       "      <td>int_rate</td>\n",
       "      <td>-0.362526</td>\n",
       "    </tr>\n",
       "    <tr>\n",
       "      <th>1</th>\n",
       "      <td>term</td>\n",
       "      <td>-0.275132</td>\n",
       "    </tr>\n",
       "    <tr>\n",
       "      <th>2</th>\n",
       "      <td>dti</td>\n",
       "      <td>-0.192408</td>\n",
       "    </tr>\n",
       "    <tr>\n",
       "      <th>3</th>\n",
       "      <td>acc_open_past_24mths</td>\n",
       "      <td>-0.172457</td>\n",
       "    </tr>\n",
       "    <tr>\n",
       "      <th>4</th>\n",
       "      <td>fico_range_low</td>\n",
       "      <td>0.153511</td>\n",
       "    </tr>\n",
       "    <tr>\n",
       "      <th>5</th>\n",
       "      <td>earliest_cr_line</td>\n",
       "      <td>-0.147458</td>\n",
       "    </tr>\n",
       "    <tr>\n",
       "      <th>6</th>\n",
       "      <td>loan_amnt</td>\n",
       "      <td>-0.137666</td>\n",
       "    </tr>\n",
       "    <tr>\n",
       "      <th>7</th>\n",
       "      <td>mo_sin_old_rev_tl_op</td>\n",
       "      <td>0.115808</td>\n",
       "    </tr>\n",
       "    <tr>\n",
       "      <th>8</th>\n",
       "      <td>total_acc</td>\n",
       "      <td>0.108137</td>\n",
       "    </tr>\n",
       "    <tr>\n",
       "      <th>9</th>\n",
       "      <td>annual_inc</td>\n",
       "      <td>0.084245</td>\n",
       "    </tr>\n",
       "  </tbody>\n",
       "</table>\n",
       "</div>"
      ],
      "text/plain": [
       "               Variable Standardized Coefficient\n",
       "0              int_rate                -0.362526\n",
       "1                  term                -0.275132\n",
       "2                   dti                -0.192408\n",
       "3  acc_open_past_24mths                -0.172457\n",
       "4        fico_range_low                 0.153511\n",
       "5      earliest_cr_line                -0.147458\n",
       "6             loan_amnt                -0.137666\n",
       "7  mo_sin_old_rev_tl_op                 0.115808\n",
       "8             total_acc                 0.108137\n",
       "9            annual_inc                 0.084245"
      ]
     },
     "execution_count": 108,
     "metadata": {},
     "output_type": "execute_result"
    }
   ],
   "source": [
    "# Rank by the absolute value\n",
    "coefs_lr = coefs_lr.sort_values('abs_coef',ascending=False)[:10].reset_index(drop=True)\n",
    "coefs_lr['Variable'] = coefs_lr[0]\n",
    "coefs_lr['Standardized Coefficient'] = coefs_lr[1]\n",
    "coefs_lr = coefs_lr.drop(columns=[0,1,'abs_coef'])\n",
    "coefs_lr"
   ]
  },
  {
   "cell_type": "code",
   "execution_count": 110,
   "id": "e041700b",
   "metadata": {},
   "outputs": [
    {
     "data": {
      "text/html": [
       "<div>\n",
       "<style scoped>\n",
       "    .dataframe tbody tr th:only-of-type {\n",
       "        vertical-align: middle;\n",
       "    }\n",
       "\n",
       "    .dataframe tbody tr th {\n",
       "        vertical-align: top;\n",
       "    }\n",
       "\n",
       "    .dataframe thead th {\n",
       "        text-align: right;\n",
       "    }\n",
       "</style>\n",
       "<table border=\"1\" class=\"dataframe\">\n",
       "  <thead>\n",
       "    <tr style=\"text-align: right;\">\n",
       "      <th></th>\n",
       "      <th>Variable</th>\n",
       "      <th>Feature Importance</th>\n",
       "    </tr>\n",
       "  </thead>\n",
       "  <tbody>\n",
       "    <tr>\n",
       "      <th>0</th>\n",
       "      <td>int_rate</td>\n",
       "      <td>0.221361</td>\n",
       "    </tr>\n",
       "    <tr>\n",
       "      <th>1</th>\n",
       "      <td>term</td>\n",
       "      <td>0.105709</td>\n",
       "    </tr>\n",
       "    <tr>\n",
       "      <th>2</th>\n",
       "      <td>fico_range_low</td>\n",
       "      <td>0.060954</td>\n",
       "    </tr>\n",
       "    <tr>\n",
       "      <th>3</th>\n",
       "      <td>dti</td>\n",
       "      <td>0.052049</td>\n",
       "    </tr>\n",
       "    <tr>\n",
       "      <th>4</th>\n",
       "      <td>loan_amnt</td>\n",
       "      <td>0.03677</td>\n",
       "    </tr>\n",
       "    <tr>\n",
       "      <th>5</th>\n",
       "      <td>bc_open_to_buy</td>\n",
       "      <td>0.034229</td>\n",
       "    </tr>\n",
       "    <tr>\n",
       "      <th>6</th>\n",
       "      <td>tot_cur_bal</td>\n",
       "      <td>0.032639</td>\n",
       "    </tr>\n",
       "    <tr>\n",
       "      <th>7</th>\n",
       "      <td>annual_inc</td>\n",
       "      <td>0.030565</td>\n",
       "    </tr>\n",
       "    <tr>\n",
       "      <th>8</th>\n",
       "      <td>acc_open_past_24mths</td>\n",
       "      <td>0.028917</td>\n",
       "    </tr>\n",
       "    <tr>\n",
       "      <th>9</th>\n",
       "      <td>mo_sin_old_rev_tl_op</td>\n",
       "      <td>0.02342</td>\n",
       "    </tr>\n",
       "  </tbody>\n",
       "</table>\n",
       "</div>"
      ],
      "text/plain": [
       "               Variable Feature Importance\n",
       "0              int_rate           0.221361\n",
       "1                  term           0.105709\n",
       "2        fico_range_low           0.060954\n",
       "3                   dti           0.052049\n",
       "4             loan_amnt            0.03677\n",
       "5        bc_open_to_buy           0.034229\n",
       "6           tot_cur_bal           0.032639\n",
       "7            annual_inc           0.030565\n",
       "8  acc_open_past_24mths           0.028917\n",
       "9  mo_sin_old_rev_tl_op            0.02342"
      ]
     },
     "execution_count": 110,
     "metadata": {},
     "output_type": "execute_result"
    }
   ],
   "source": [
    "# Feature importance from the random forest\n",
    "coefs_rf = pd.DataFrame([xtrain.columns,rf.feature_importances_]).T\n",
    "\n",
    "# Ranked by feature importance\n",
    "coefs_rf = coefs_rf.sort_values(1,ascending=False)[:10].reset_index(drop=True)\n",
    "coefs_rf['Variable'] = coefs_rf[0]\n",
    "coefs_rf['Feature Importance'] = coefs_rf[1]\n",
    "coefs_rf = coefs_rf.drop(columns=[0,1])\n",
    "coefs_rf"
   ]
  },
  {
   "cell_type": "markdown",
   "id": "757002aa",
   "metadata": {},
   "source": [
    "By comparing the 2 tables and seeing a majority of overlapping variables, we have a good idea of the most important factors to credit risk and by their ranks we know how much more important 1 variable is over another. The sign of the standardized coefficients means the direction of the impact and we can compare with current literature and common sense to analyze the consistency."
   ]
  }
 ],
 "metadata": {
  "kernelspec": {
   "display_name": "Python 3",
   "language": "python",
   "name": "python3"
  },
  "language_info": {
   "codemirror_mode": {
    "name": "ipython",
    "version": 3
   },
   "file_extension": ".py",
   "mimetype": "text/x-python",
   "name": "python",
   "nbconvert_exporter": "python",
   "pygments_lexer": "ipython3",
   "version": "3.7.11"
  }
 },
 "nbformat": 4,
 "nbformat_minor": 5
}
